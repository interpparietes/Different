{
  "nbformat": 4,
  "nbformat_minor": 0,
  "metadata": {
    "colab": {
      "provenance": []
    },
    "kernelspec": {
      "name": "python3",
      "display_name": "Python 3"
    },
    "language_info": {
      "name": "python"
    }
  },
  "cells": [
    {
      "cell_type": "code",
      "source": [
        "from difflib import unified_diff"
      ],
      "metadata": {
        "id": "d1oZ5Pg2IHap"
      },
      "execution_count": null,
      "outputs": []
    },
    {
      "cell_type": "code",
      "source": [
        "def compare_files(file1, file2):\n",
        "    with open(file1, 'r', encoding='utf-8') as file1_obj, open(file2, 'r', encoding='utf-8') as file2_obj:\n",
        "        file1_lines = file1_obj.readlines()\n",
        "        file2_lines = file2_obj.readlines()\n",
        "\n",
        "        with open('difference.txt', 'w', encoding='utf-8') as difference_file:\n",
        "            for index, (line1, line2) in enumerate(zip(file1_lines, file2_lines)):\n",
        "                if line1 != line2:\n",
        "                    # Записываем различия в файл difference.txt\n",
        "                    difference_file.write(f'Line {index + 1}: {line1} ====> {line2}\\n')\n",
        "                    # Печатаем\n",
        "                    print(f'Line {index + 1}: {line1} ====> {line2}')\n",
        "\n",
        "# Путь к файлам для сравнения\n",
        "file1 = '/content/original-predictions.txt'\n",
        "file2 = '/content/all_pred.txt'"
      ],
      "metadata": {
        "id": "ka_AqhAHqh5P"
      },
      "execution_count": null,
      "outputs": []
    },
    {
      "cell_type": "code",
      "source": [
        "compare_files(file1, file2)"
      ],
      "metadata": {
        "id": "oCekJI3hIK_X"
      },
      "execution_count": null,
      "outputs": []
    }
  ]
}